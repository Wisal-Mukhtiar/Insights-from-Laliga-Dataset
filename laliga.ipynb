{
 "cells": [
  {
   "cell_type": "markdown",
   "metadata": {},
   "source": [
    "<img src=\"pics/laliga.jpg\">\n",
    "\n",
    "# Laliga\n",
    "<p><font size='4', style=\"font-family:Times new Roman\"> The Campeonato Nacional de Liga de Primera División, commonly known simply as Primera División in Spain, and as La Liga in English-speaking countries and officially as LaLiga Santander for sponsorship reasons, stylized as LaLiga, is the men's top professional football division of the Spanish football league system\n",
    "     </font></p>"
   ]
  },
  {
   "cell_type": "markdown",
   "metadata": {},
   "source": [
    "<b><font size=\"4\"> Laliga Dataset </font></b>\n",
    "<p><font size='3'>  This dataset contains results from every La Liga match from 1995-1996 to 2020-2021</font> </p>\n",
    "\n",
    "\n",
    "<font size=\"4\"> Data set Columns </font>\n",
    "\n",
    "<ul>\n",
    "    <li><b>Season:</b>  part of the year during which matches were held..</li>\n",
    "    <li><b>Date:</b> Exact Date on which match was played.</li>\n",
    "    <li><b>HomeTeam</b>  Team with home field.</li>\n",
    "    <li><b>AwayTeam:</b>  Visiting Team.</li>\n",
    "    <li><b>FTHG:</b>  Goals scored by Home Team till half time.</li>\n",
    "    <li><b>FTAG:</b>  Goals scored by Away Team till half time.</li>\n",
    "    <li><b>FTR:</b>  Full Time Results.</li>\n",
    "    <li><b>HTHG:</b> Goals scored by Home Team till half time.</li>\n",
    "    <li><b>HTAG:</b> Goals scored by Away Team till half time.</li>\n",
    "    <li><b>HTR:</b>  Half Time results.</li>\n",
    "</ul>\n",
    "\n",
    "\n",
    "Dataset link : https://www.kaggle.com/kishan305/la-liga-results-19952020"
   ]
  },
  {
   "cell_type": "markdown",
   "metadata": {},
   "source": [
    "<p><i><font size='4'> In this notebook, we will take a look at the above dataset, and try to understand how the popularity and quality of the series varied over time.\n",
    "    </font>\n",
    "    </i></p>"
   ]
  },
  {
   "cell_type": "code",
   "execution_count": 1,
   "metadata": {},
   "outputs": [],
   "source": [
    "# importing the necessary libraries used throughout the project, Pandas, Numpy, Matplotlib, Seaborn\n",
    "import pandas as pd\n",
    "import numpy as np\n",
    "import matplotlib.pyplot as plt\n",
    "# seaborn used only once throughout\n",
    "import seaborn as sns "
   ]
  },
  {
   "cell_type": "code",
   "execution_count": 2,
   "metadata": {},
   "outputs": [],
   "source": [
    "# setting figure size, \n",
    "plt.rcParams['figure.figsize'] = [18, 5]\n",
    "pd.options.mode.chained_assignment = None  # default='warn' #mute warnings"
   ]
  },
  {
   "cell_type": "markdown",
   "metadata": {},
   "source": [
    "<font size='4' > Loading the Dataset </font>"
   ]
  },
  {
   "cell_type": "code",
   "execution_count": 3,
   "metadata": {},
   "outputs": [],
   "source": [
    "laliga = pd.read_csv('dataset/laliga.csv')"
   ]
  },
  {
   "cell_type": "code",
   "execution_count": 4,
   "metadata": {},
   "outputs": [
    {
     "data": {
      "text/html": [
       "<div>\n",
       "<style scoped>\n",
       "    .dataframe tbody tr th:only-of-type {\n",
       "        vertical-align: middle;\n",
       "    }\n",
       "\n",
       "    .dataframe tbody tr th {\n",
       "        vertical-align: top;\n",
       "    }\n",
       "\n",
       "    .dataframe thead th {\n",
       "        text-align: right;\n",
       "    }\n",
       "</style>\n",
       "<table border=\"1\" class=\"dataframe\">\n",
       "  <thead>\n",
       "    <tr style=\"text-align: right;\">\n",
       "      <th></th>\n",
       "      <th>Season</th>\n",
       "      <th>Date</th>\n",
       "      <th>HomeTeam</th>\n",
       "      <th>AwayTeam</th>\n",
       "      <th>FTHG</th>\n",
       "      <th>FTAG</th>\n",
       "      <th>FTR</th>\n",
       "      <th>HTHG</th>\n",
       "      <th>HTAG</th>\n",
       "      <th>HTR</th>\n",
       "    </tr>\n",
       "  </thead>\n",
       "  <tbody>\n",
       "    <tr>\n",
       "      <th>0</th>\n",
       "      <td>1995-96</td>\n",
       "      <td>2/9/1995</td>\n",
       "      <td>La Coruna</td>\n",
       "      <td>Valencia</td>\n",
       "      <td>3</td>\n",
       "      <td>0</td>\n",
       "      <td>H</td>\n",
       "      <td>2.0</td>\n",
       "      <td>0.0</td>\n",
       "      <td>H</td>\n",
       "    </tr>\n",
       "    <tr>\n",
       "      <th>1</th>\n",
       "      <td>1995-96</td>\n",
       "      <td>2/9/1995</td>\n",
       "      <td>Sp Gijon</td>\n",
       "      <td>Albacete</td>\n",
       "      <td>3</td>\n",
       "      <td>0</td>\n",
       "      <td>H</td>\n",
       "      <td>3.0</td>\n",
       "      <td>0.0</td>\n",
       "      <td>H</td>\n",
       "    </tr>\n",
       "    <tr>\n",
       "      <th>2</th>\n",
       "      <td>1995-96</td>\n",
       "      <td>3/9/1995</td>\n",
       "      <td>Ath Bilbao</td>\n",
       "      <td>Santander</td>\n",
       "      <td>4</td>\n",
       "      <td>0</td>\n",
       "      <td>H</td>\n",
       "      <td>2.0</td>\n",
       "      <td>0.0</td>\n",
       "      <td>H</td>\n",
       "    </tr>\n",
       "    <tr>\n",
       "      <th>3</th>\n",
       "      <td>1995-96</td>\n",
       "      <td>3/9/1995</td>\n",
       "      <td>Ath Madrid</td>\n",
       "      <td>Sociedad</td>\n",
       "      <td>4</td>\n",
       "      <td>1</td>\n",
       "      <td>H</td>\n",
       "      <td>1.0</td>\n",
       "      <td>1.0</td>\n",
       "      <td>D</td>\n",
       "    </tr>\n",
       "    <tr>\n",
       "      <th>4</th>\n",
       "      <td>1995-96</td>\n",
       "      <td>3/9/1995</td>\n",
       "      <td>Celta</td>\n",
       "      <td>Compostela</td>\n",
       "      <td>0</td>\n",
       "      <td>1</td>\n",
       "      <td>A</td>\n",
       "      <td>0.0</td>\n",
       "      <td>0.0</td>\n",
       "      <td>D</td>\n",
       "    </tr>\n",
       "  </tbody>\n",
       "</table>\n",
       "</div>"
      ],
      "text/plain": [
       "    Season      Date    HomeTeam    AwayTeam  FTHG  FTAG FTR  HTHG  HTAG HTR\n",
       "0  1995-96  2/9/1995   La Coruna    Valencia     3     0   H   2.0   0.0   H\n",
       "1  1995-96  2/9/1995    Sp Gijon    Albacete     3     0   H   3.0   0.0   H\n",
       "2  1995-96  3/9/1995  Ath Bilbao   Santander     4     0   H   2.0   0.0   H\n",
       "3  1995-96  3/9/1995  Ath Madrid    Sociedad     4     1   H   1.0   1.0   D\n",
       "4  1995-96  3/9/1995       Celta  Compostela     0     1   A   0.0   0.0   D"
      ]
     },
     "execution_count": 4,
     "metadata": {},
     "output_type": "execute_result"
    }
   ],
   "source": [
    "# let's see how the dataset looks like :)\n",
    "laliga.head()"
   ]
  },
  {
   "cell_type": "code",
   "execution_count": 5,
   "metadata": {},
   "outputs": [
    {
     "name": "stdout",
     "output_type": "stream",
     "text": [
      "<class 'pandas.core.frame.DataFrame'>\n",
      "RangeIndex: 10044 entries, 0 to 10043\n",
      "Data columns (total 10 columns):\n",
      " #   Column    Non-Null Count  Dtype  \n",
      "---  ------    --------------  -----  \n",
      " 0   Season    10044 non-null  object \n",
      " 1   Date      10044 non-null  object \n",
      " 2   HomeTeam  10044 non-null  object \n",
      " 3   AwayTeam  10044 non-null  object \n",
      " 4   FTHG      10044 non-null  int64  \n",
      " 5   FTAG      10044 non-null  int64  \n",
      " 6   FTR       10044 non-null  object \n",
      " 7   HTHG      10042 non-null  float64\n",
      " 8   HTAG      10042 non-null  float64\n",
      " 9   HTR       10042 non-null  object \n",
      "dtypes: float64(2), int64(2), object(6)\n",
      "memory usage: 784.8+ KB\n"
     ]
    }
   ],
   "source": [
    "# summary of the dataset\n",
    "laliga.info()"
   ]
  },
  {
   "cell_type": "markdown",
   "metadata": {},
   "source": [
    "## 1)  Analysis of the 95-96 season\n",
    "<font size='3'> Analysing one of the season (1995-1996 in this case) will give us an idea of how we can analyse all the other seasons or those which we are interested in. </font> \n",
    "\n",
    "<b>Analysis overview :  </b>\n",
    "<ul>\n",
    "    <li>How many teams competed in the seaoson</li>\n",
    "    <li>Who won the league?</li>\n",
    "    <li>Visualizatoin of home,away wins and draws for all the teams throughout the season</li>\n",
    "    <li>Overall points at the end of the season (Visualization)</li>\n",
    "    <li>No of goals scored by each team throughout the season(visualizaion)</li>\n",
    "    <li>No of goals scored by each team throughout the season(visualizaion)</li>\n",
    "    <li>Championship run between the top 3 teams (visualization) </li>\n",
    " </ul>\n"
   ]
  },
  {
   "cell_type": "code",
   "execution_count": 6,
   "metadata": {},
   "outputs": [],
   "source": [
    "# seperating the DataFrame that contain the results from 1995-1996 season only\n",
    "season_95 = laliga[laliga['Season'] == '1995-96']"
   ]
  },
  {
   "cell_type": "markdown",
   "metadata": {},
   "source": [
    "### How many teams Competed in this season?"
   ]
  },
  {
   "cell_type": "code",
   "execution_count": 7,
   "metadata": {},
   "outputs": [
    {
     "name": "stdout",
     "output_type": "stream",
     "text": [
      "22 teams participated in Season 1995-1996\n"
     ]
    }
   ],
   "source": [
    "no_of_teams = season_95['HomeTeam'].unique().size\n",
    "print(f\"{no_of_teams} teams participated in Season 1995-1996\")"
   ]
  },
  {
   "cell_type": "markdown",
   "metadata": {},
   "source": [
    "### Who won the league?"
   ]
  },
  {
   "cell_type": "code",
   "execution_count": 8,
   "metadata": {},
   "outputs": [],
   "source": [
    "# this dictionary will store the team's name and points e.g {'realmadrid':3, 'Barcelona':3...}\n",
    "teams_points = {}"
   ]
  },
  {
   "cell_type": "code",
   "execution_count": 9,
   "metadata": {},
   "outputs": [],
   "source": [
    "# execute this cell once only\n",
    "\n",
    "# iterating over all the rows in the DataFrame \n",
    "for value,row in season_95.iterrows():\n",
    "    home = row['HomeTeam'] # selecting home and away team from each row \n",
    "    away = row['AwayTeam'] \n",
    "\n",
    "# checking whether a team is home, away and adding 3 points if won, 1 if drew\n",
    "    if row['FTR'] == 'H':\n",
    "        if home in teams_points:\n",
    "            teams_points[home] += 3\n",
    "        else:\n",
    "            teams_points[home] = 3\n",
    "    elif row['FTR'] == 'A':\n",
    "        if away in teams_points:\n",
    "            teams_points[away] += 3\n",
    "        else:\n",
    "            teams_points[away] = 3\n",
    "    else:\n",
    "        if away in teams_points:\n",
    "            teams_points[away] += 1\n",
    "        else:\n",
    "            teams_points[away] = 1\n",
    "        \n",
    "        if home in teams_points:\n",
    "            teams_points[home] += 1\n",
    "        else:\n",
    "            teams_points[home] = 1"
   ]
  },
  {
   "cell_type": "code",
   "execution_count": 10,
   "metadata": {},
   "outputs": [],
   "source": [
    "# function will return the key against the max value from the dictionary \n",
    "def get_max(record):\n",
    "    \"\"\"Recieve the dictionary and return key with max value\"\"\"\n",
    "    val = list(record.values())\n",
    "    keys = list(record.keys())\n",
    "    return keys[val.index(max(val))]"
   ]
  },
  {
   "cell_type": "markdown",
   "metadata": {},
   "source": [
    "### League Winner (1995-1996)"
   ]
  },
  {
   "cell_type": "code",
   "execution_count": 11,
   "metadata": {},
   "outputs": [
    {
     "name": "stdout",
     "output_type": "stream",
     "text": [
      "Ath Madrid  won the 1995-1996 league\n"
     ]
    }
   ],
   "source": [
    "print(f'{get_max(teams_points)}  won the 1995-1996 league')"
   ]
  },
  {
   "cell_type": "markdown",
   "metadata": {},
   "source": [
    "<img src=\"pics/atletico.jpg\" width=\"800\" height=\"800\">"
   ]
  },
  {
   "cell_type": "markdown",
   "metadata": {},
   "source": [
    "### Analyzing the home, away wins and draws throughout the season for all teams"
   ]
  },
  {
   "cell_type": "code",
   "execution_count": 12,
   "metadata": {},
   "outputs": [],
   "source": [
    "# selecting the home teams with match result \"Home-win\" and counting the wins for each team using groupby\n",
    "home_wins_95 = season_95[season_95['FTR']=='H'].groupby('HomeTeam').agg({'FTR':'count'}) \n",
    "\n",
    "# similarly for away teams with away wins\n",
    "away_wins_95 = season_95[season_95['FTR']=='A'].groupby('AwayTeam').agg({'FTR':'count'})\n",
    "\n",
    "# df containing drawn matches for all the team\n",
    "draw_95 = season_95[season_95['FTR']=='D'].groupby('AwayTeam').agg({'FTR':'count'})"
   ]
  },
  {
   "cell_type": "code",
   "execution_count": 13,
   "metadata": {},
   "outputs": [],
   "source": [
    "# renaming the 'FTR' as 'Home wins' (will make things easy when the df combined)\n",
    "home_wins_95.rename(columns={'FTR':'Home_wins'}, inplace=True)\n",
    "\n",
    "# renaming the 'FTR' column as 'Away wins'\n",
    "away_wins_95.rename(columns={'FTR':'Away_wins'}, inplace=True)\n",
    "\n",
    "# renaming the 'FTR' as 'draws'\n",
    "draw_95.rename(columns={'FTR':'draws'}, inplace=True)"
   ]
  },
  {
   "cell_type": "code",
   "execution_count": 14,
   "metadata": {},
   "outputs": [],
   "source": [
    "# combining the home and away wins dataFrame back as one DataFrame \n",
    "home_away_combined_df = home_wins_95.merge(away_wins_95, left_index=True, right_index=True)\n",
    "\n",
    "# combining the home_away draw DataFrame to complete all the resu\n",
    "results_95 = home_away_combined_df.merge(draw_95, left_index=True, right_index=True)\n",
    "\n",
    "results_95.index.names = ['Team']\n",
    "results_95.sort_values(['Home_wins','Away_wins','draws'], ascending=False, inplace=True)"
   ]
  },
  {
   "cell_type": "code",
   "execution_count": 15,
   "metadata": {
    "scrolled": true
   },
   "outputs": [
    {
     "data": {
      "image/png": "[encoded data removed]",
      "text/plain": [
       "<Figure size 1296x360 with 1 Axes>"
      ]
     },
     "metadata": {
      "needs_background": "light"
     },
     "output_type": "display_data"
    }
   ],
   "source": [
    "results_95.plot(kind='bar')\n",
    "plt.show()"
   ]
  },
  {
   "cell_type": "markdown",
   "metadata": {},
   "source": [
    "##### Teams and points"
   ]
  },
  {
   "cell_type": "code",
   "execution_count": 17,
   "metadata": {},
   "outputs": [],
   "source": [
    "#converting the teams points to a DataFrame\n",
    "teams_points = pd.DataFrame(teams_points.items(),columns=[\"Team\",\"Points\"])\n",
    "teams_points.sort_values('Points',ascending=False,inplace=True)"
   ]
  },
  {
   "cell_type": "code",
   "execution_count": 18,
   "metadata": {},
   "outputs": [
    {
     "data": {
      "image/png": "[encoded data removed]",
      "text/plain": [
       "<Figure size 1296x360 with 1 Axes>"
      ]
     },
     "metadata": {
      "needs_background": "light"
     },
     "output_type": "display_data"
    }
   ],
   "source": [
    "fig, ax = plt.subplots()\n",
    "for index,row in teams_points.iterrows():\n",
    "    ax.bar(row[\"Team\"],row[\"Points\"])\n",
    "\n",
    "plt.xticks(rotation=90)\n",
    "plt.yticks([x+5 for x in range(0,90,5)])\n",
    "plt.xlabel(\"Teams\")\n",
    "plt.ylabel(\"Points\")\n",
    "plt.show()"
   ]
  },
  {
   "cell_type": "code",
   "execution_count": 19,
   "metadata": {},
   "outputs": [],
   "source": [
    "goals_scored = {}\n",
    "for index, row in season_95.iterrows():\n",
    "    home = row['HomeTeam']\n",
    "    away = row['AwayTeam']\n",
    "    goals_scored[home] = goals_scored.get(home,0) + row['FTHG']\n",
    "    goals_scored[away] = goals_scored.get(away,0) + row['FTAG']\n",
    "\n",
    "# sorting in ascending order by values \n",
    "goals_scored = {k:v for k,v in sorted(goals_scored.items(),key=lambda item:item[1])}\n",
    "goals_scored = pd.DataFrame(goals_scored.items(), columns=['Team','Goals'])\n",
    "points_and_goals = pd.merge(teams_points,goals_scored,on=\"Team\")"
   ]
  },
  {
   "cell_type": "code",
   "execution_count": 20,
   "metadata": {},
   "outputs": [
    {
     "data": {
      "text/plain": [
       "<seaborn.axisgrid.FacetGrid at 0x1d3157878e0>"
      ]
     },
     "execution_count": 20,
     "metadata": {},
     "output_type": "execute_result"
    },
    {
     "data": {
      "image/png": "[encoded data removed]",
      "text/plain": [
       "<Figure size 599.125x504 with 1 Axes>"
      ]
     },
     "metadata": {},
     "output_type": "display_data"
    }
   ],
   "source": [
    "plt.style.use(\"ggplot\")\n",
    "sns.FacetGrid(points_and_goals,hue=\"Team\",height=7).map(plt.scatter,\"Points\",\"Goals\").add_legend()"
   ]
  },
  {
   "cell_type": "markdown",
   "metadata": {},
   "source": [
    "### Analysis of Top three teams, Athletico Madrid, Valencia and Barcelona"
   ]
  },
  {
   "cell_type": "code",
   "execution_count": 21,
   "metadata": {},
   "outputs": [],
   "source": [
    "# converting the Date column from Object to Date \n",
    "season_95['Date'] = pd.to_datetime(season_95['Date'])"
   ]
  },
  {
   "cell_type": "code",
   "execution_count": null,
   "metadata": {},
   "outputs": [],
   "source": [
    "season_95.sort_values('Date', inplace=True)"
   ]
  },
  {
   "cell_type": "code",
   "execution_count": null,
   "metadata": {},
   "outputs": [],
   "source": [
    "valencia = season_95[(season_95['HomeTeam']=='Valencia') | (season_95['AwayTeam']=='Valencia')]\n",
    "athletico_madrid = season_95[(season_95['HomeTeam']=='Ath Madrid') | (season_95['AwayTeam']=='Ath Madrid')]\n",
    "barcelona = season_95[(season_95['HomeTeam']=='Barcelona') | (season_95['AwayTeam']=='Barcelona')]"
   ]
  },
  {
   "cell_type": "code",
   "execution_count": null,
   "metadata": {},
   "outputs": [],
   "source": [
    "# to be executed on;y once\n",
    "valencia.reset_index(inplace=True)\n",
    "del valencia[\"index\"]\n",
    "\n",
    "athletico_madrid.reset_index(inplace=True)\n",
    "del athletico_madrid[\"index\"]\n",
    "\n",
    "barcelona.reset_index(inplace=True)\n",
    "del barcelona[\"index\"]"
   ]
  },
  {
   "cell_type": "code",
   "execution_count": null,
   "metadata": {
    "scrolled": true
   },
   "outputs": [],
   "source": [
    "#adding league score, represeting the full time score that will be made commulative latter on for title race after every match\n",
    "valencia[\"league_score\"] = 0\n",
    "athletico_madrid[\"league_score\"] = 0\n",
    "barcelona[\"league_score\"] = 0"
   ]
  },
  {
   "cell_type": "code",
   "execution_count": null,
   "metadata": {},
   "outputs": [],
   "source": [
    "#adding scores in \"league score column based on the match results\"\n",
    "for ind,row in valencia.iterrows():\n",
    "    if (row[\"AwayTeam\"] == \"Valencia\") & (row[\"FTR\"] == \"A\") :\n",
    "        valencia.loc[ind,\"league_score\"] = 3\n",
    "    elif (row[\"HomeTeam\"] == \"Valencia\") & (row[\"FTR\"] == \"H\") :\n",
    "        valencia.loc[ind,\"league_score\"] = 3\n",
    "    elif row[\"FTR\"] == \"D\":\n",
    "        valencia.loc[ind,\"league_score\"] = 1\n",
    "    else:\n",
    "        valencia.loc[ind,\"league_score\"] =0\n",
    "\n",
    "for ind,row in athletico_madrid.iterrows():\n",
    "    if (row[\"AwayTeam\"] == \"Ath Madrid\") & (row[\"FTR\"] == \"A\") :\n",
    "        athletico_madrid.loc[ind,\"league_score\"] = 3\n",
    "    elif (row[\"HomeTeam\"] == \"Ath Madrid\") & (row[\"FTR\"] == \"H\") :\n",
    "        athletico_madrid.loc[ind,\"league_score\"] = 3\n",
    "    elif row[\"FTR\"] == \"D\":\n",
    "        athletico_madrid.loc[ind,\"league_score\"] = 1\n",
    "    else:\n",
    "        athletico_madrid.loc[ind,\"league_score\"] =0\n",
    "        \n",
    "for ind,row in barcelona.iterrows():\n",
    "    if (row[\"AwayTeam\"] == \"Barcelona\") & (row[\"FTR\"] == \"A\") :\n",
    "        barcelona.loc[ind,\"league_score\"] = 3\n",
    "    elif (row[\"HomeTeam\"] == \"Barcelona\") & (row[\"FTR\"] == \"H\") :\n",
    "        barcelona.loc[ind,\"league_score\"] = 3\n",
    "    elif row[\"FTR\"] == \"D\":\n",
    "        barcelona.loc[ind,\"league_score\"] = 1\n",
    "    else:\n",
    "        barcelona.loc[ind,\"league_score\"] =0"
   ]
  },
  {
   "cell_type": "code",
   "execution_count": null,
   "metadata": {},
   "outputs": [],
   "source": [
    "valencia[\"league_score\"] = valencia[\"league_score\"].cumsum()\n",
    "athletico_madrid[\"league_score\"] = athletico_madrid[\"league_score\"].cumsum()\n",
    "barcelona[\"league_score\"] = barcelona[\"league_score\"].cumsum()\n"
   ]
  },
  {
   "cell_type": "code",
   "execution_count": null,
   "metadata": {},
   "outputs": [],
   "source": [
    "lis = []\n",
    "for value in range(42):\n",
    "    lis.append(f\"Week{value+1}\")"
   ]
  },
  {
   "cell_type": "code",
   "execution_count": null,
   "metadata": {},
   "outputs": [],
   "source": [
    "plt.style.use(\"bmh\")\n",
    "fig, ax = plt.subplots()\n",
    "ax.plot(lis,valencia.league_score,label=\"Valencia\",linewidth=3)\n",
    "ax.set_label(\"Valencia\")\n",
    "ax.plot(lis,athletico_madrid.league_score, label=\"Athletico Madrid\",linewidth=3)\n",
    "plt.xticks(rotation=90)\n",
    "ax.set_label(\"Athletico madrid\")\n",
    "ax.plot(lis,barcelona.league_score,label=\"barcelona\",linewidth=3)\n",
    "ax.legend()\n",
    "ax.set_xlabel(\"Match week\")\n",
    "ax.set_ylabel(\"Points\")\n",
    "plt.yticks([x+5 for x in range(0,90,5)])\n",
    "plt.show()"
   ]
  },
  {
   "cell_type": "markdown",
   "metadata": {},
   "source": [
    "# Teams with most laliga titles from 1995-2020"
   ]
  },
  {
   "cell_type": "code",
   "execution_count": null,
   "metadata": {},
   "outputs": [],
   "source": [
    "# this dictionary will contain all the \n",
    "seasons_dfs = {}\n",
    "\n",
    "laliga_seasons = laliga['Season'].unique()\n",
    "\n",
    "for season in laliga_seasons:\n",
    "    seasons_dfs[season] = laliga[laliga['Season']==season]"
   ]
  },
  {
   "cell_type": "code",
   "execution_count": null,
   "metadata": {},
   "outputs": [],
   "source": [
    "# teams with laliga titles won\n",
    "championships_won = {}\n",
    "\n",
    "# this loop will iterate over every dataframe (seaon)\n",
    "\n",
    "for key in seasons_dfs:\n",
    "    season_picked = seasons_dfs[key]\n",
    "    \n",
    "    # this dictionary will have the points of each team in the season\n",
    "    teams_points = {}\n",
    "    \n",
    "    for value,row in season_picked.iterrows():\n",
    "        home = row['HomeTeam']\n",
    "        away = row['AwayTeam']\n",
    "        \n",
    "        if row['FTR'] == 'H':\n",
    "            # following line of code add a key value with default value 0, and add 3 or if exist, only add 3\n",
    "            teams_points[home] = teams_points.get(home,0)+3\n",
    "        elif row['FTR'] == 'A':\n",
    "            teams_points[away] = teams_points.get(away,0)+3 \n",
    "        else:\n",
    "            teams_points[away] = teams_points.get(away,0)+1\n",
    "            teams_points[home] = teams_points.get(home,0)+1\n",
    "    \n",
    "    winning_team = get_max(teams_points)\n",
    "    \n",
    "    #this value will add by default 0 to the team\n",
    "    championships_won[winning_team] = championships_won.get(winning_team,0) + 1"
   ]
  },
  {
   "cell_type": "markdown",
   "metadata": {},
   "source": [
    "### Titles won from 1995 - 2020 visualization"
   ]
  },
  {
   "cell_type": "code",
   "execution_count": null,
   "metadata": {},
   "outputs": [],
   "source": [
    "fig, ax = plt.subplots(figsize=(10,5))\n",
    "\n",
    "for key in championships_won.keys():\n",
    "    ax.bar(key, championships_won[key],width=0.6)\n",
    "\n",
    "heights_total = sum([i.get_height() for i in ax.patches])\n",
    "\n",
    "for i in ax.patches:\n",
    "    ax.text(i.get_x()+.25, i.get_height()-0.7, \\\n",
    "            str(i.get_height()), fontsize=15,\n",
    "                color='white')"
   ]
  },
  {
   "cell_type": "code",
   "execution_count": null,
   "metadata": {},
   "outputs": [],
   "source": []
  }
 ],
 "metadata": {
  "kernelspec": {
   "display_name": "Python 3",
   "language": "python",
   "name": "python3"
  },
  "language_info": {
   "codemirror_mode": {
    "name": "ipython",
    "version": 3
   },
   "file_extension": ".py",
   "mimetype": "text/x-python",
   "name": "python",
   "nbconvert_exporter": "python",
   "pygments_lexer": "ipython3",
   "version": "3.8.5"
  }
 },
 "nbformat": 4,
 "nbformat_minor": 4
}
